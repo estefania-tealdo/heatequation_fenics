{
 "cells": [
  {
   "cell_type": "markdown",
   "metadata": {},
   "source": [
    "# Heat Equation - FEniCS - Gaussian Kernel Diffusion"
   ]
  },
  {
   "cell_type": "markdown",
   "metadata": {},
   "source": [
    "### Proposed Heat Equation\n",
    "\n",
    "\\begin{equation}\n",
    "    \\begin{cases}\n",
    "    u_{t} = u_{xx} + u_{yy}, \\quad \\quad (x,y) \\in \\Omega \\\\\n",
    "    u' = 0, \\quad\\quad\\quad\\quad\\quad\\quad (x,y) \\in \\partial \\Omega\\\\\n",
    "    \\end{cases}\n",
    "\\end{equation}\n",
    "#### Initial Conditions\n",
    "\\begin{equation}\n",
    "        U(x,y,0) =  {e}^ {-\\frac{(x-0.5)^2+(y-0.5)^2}{2 \\sigma^2}}, \\quad \\sigma^2 = 0.01\n",
    "\\end{equation}"
   ]
  },
  {
   "cell_type": "code",
   "execution_count": null,
   "metadata": {},
   "outputs": [],
   "source": [
    "from fenics import *\n",
    "import numpy as np\n",
    "\n",
    "T = 0.001           # final time\n",
    "num_steps = 10     # number of time steps\n",
    "dt = T / num_steps # time step size\n",
    "\n",
    "\n",
    "# Create mesh and define function space\n",
    "nx = ny = 250\n",
    "mesh = UnitSquareMesh(nx, ny)\n",
    "V = FunctionSpace(mesh, \"Lagrange\", 3)\n",
    "\n",
    "# Define boundary condition, t value can be modified later\n",
    "u_D = Expression('exp(-(pow((x[0]-0.5),2) + pow((x[1]-0.5),2))/(2*0.01))', degree=3, t=0)\n",
    "\n",
    "# Define initial value\n",
    "u_n = interpolate(u_D, V)\n",
    "\n",
    "# Define variational problem\n",
    "u = TrialFunction(V)\n",
    "v = TestFunction(V)\n",
    "f = Constant(0)\n",
    "\n",
    "F = u*v*dx + dt*dot(grad(u), grad(v))*dx - (u_n + dt*f)*v*dx\n",
    "a, L = lhs(F), rhs(F)\n",
    "vtkfile = File('heateqn_gaussian/solution.pvd')\n",
    "\n",
    "# Time-stepping\n",
    "u = Function(V)\n",
    "t = 0\n",
    "for n in range(num_steps):\n",
    "\n",
    "    # Update current time\n",
    "    t += dt\n",
    "    u_D.t = t\n",
    "\n",
    "    # Compute solution\n",
    "    solve(a == L, u)\n",
    "\n",
    "    # Compute error using analytical solution\n",
    "    u_e = interpolate(u_D, V)\n",
    "\n",
    "    # Save results\n",
    "    \n",
    "    vtkfile << (u, t)\n",
    "    \n",
    "    # Update previous solution\n",
    "    u_n.assign(u)\n",
    "\n",
    "# Hold plot\n"
   ]
  },
  {
   "cell_type": "code",
   "execution_count": 10,
   "metadata": {},
   "outputs": [
    {
     "data": {
      "text/plain": [
       "<matplotlib.tri.tricontour.TriContourSet at 0x7f78349546a0>"
      ]
     },
     "execution_count": 10,
     "metadata": {},
     "output_type": "execute_result"
    },
    {
     "data": {
      "image/png": "[encoded data removed]",
      "text/plain": [
       "<Figure size 432x288 with 1 Axes>"
      ]
     },
     "metadata": {
      "needs_background": "light"
     },
     "output_type": "display_data"
    }
   ],
   "source": [
    "plot(u)"
   ]
  },
  {
   "cell_type": "code",
   "execution_count": null,
   "metadata": {},
   "outputs": [],
   "source": []
  },
  {
   "cell_type": "code",
   "execution_count": null,
   "metadata": {},
   "outputs": [],
   "source": []
  },
  {
   "cell_type": "markdown",
   "metadata": {},
   "source": [
    "nx = 200 dt = 0.01. V= lagrange, 2\n",
    "t = 0.010: max error = 0.01427961251\n",
    "t = 0.020: max error = 0.02364727996\n",
    "t = 0.030: max error = 0.02937095117\n",
    "t = 0.040: max error = 0.03242747069\n",
    "t = 0.050: max error = 0.03356527272\n",
    "t = 0.060: max error = 0.03335410406\n",
    "t = 0.070: max error = 0.03222438825\n",
    "t = 0.080: max error = 0.03049832568\n",
    "t = 0.090: max error = 0.02841441008\n",
    "t = 0.100: max error = 0.02614670757"
   ]
  },
  {
   "cell_type": "markdown",
   "metadata": {},
   "source": [
    "t = 0.020: max error = 0.04313137585\n",
    "t = 0.040: max error = 0.05998633333\n",
    "t = 0.060: max error = 0.06259099831\n",
    "t = 0.080: max error = 0.05807082749\n",
    "t = 0.100: max error = 0.05052593082\n",
    "t = 0.120: max error = 0.04221633388\n",
    "t = 0.140: max error = 0.03430446175\n",
    "t = 0.160: max error = 0.02731516778\n",
    "t = 0.180: max error = 0.02141683679\n",
    "t = 0.200: max error = 0.01659009678"
   ]
  }
 ],
 "metadata": {
  "kernelspec": {
   "display_name": "Python 3",
   "language": "python",
   "name": "python3"
  },
  "language_info": {
   "codemirror_mode": {
    "name": "ipython",
    "version": 3
   },
   "file_extension": ".py",
   "mimetype": "text/x-python",
   "name": "python",
   "nbconvert_exporter": "python",
   "pygments_lexer": "ipython3",
   "version": "3.8.5"
  }
 },
 "nbformat": 4,
 "nbformat_minor": 4
}
