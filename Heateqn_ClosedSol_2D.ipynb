{
 "cells": [
  {
   "cell_type": "markdown",
   "metadata": {},
   "source": [
    "# Heat Equation - FEniCS - Manufactured Solution"
   ]
  },
  {
   "cell_type": "markdown",
   "metadata": {},
   "source": [
    "### Proposed Heat Equation\n",
    "\n",
    "\\begin{equation}\n",
    "    \\begin{cases}\n",
    "    u_{t} = u_{xx} + u_{yy}, \\quad \\quad (x,y) \\in \\Omega \\\\\n",
    "    u' = 0, \\quad\\quad\\quad\\quad\\quad\\quad (x,y) \\in \\partial \\Omega\\\\\n",
    "    \\end{cases}\n",
    "\\end{equation}\n",
    "#### Initial Conditions\n",
    "\\begin{equation}\n",
    "        U(x,y,0) =  f(x,y) = \\cos{(\\pi x)}\\cos{(\\pi y)}\n",
    "\\end{equation}\n",
    "\n",
    "#### Exact Solution: \n",
    "\\begin{equation}\n",
    "        U(x,y,t) = \\cos{(\\pi x)}\\cos{(\\pi y)} e^{-2\\pi^{2}t}\n",
    "\\end{equation}"
   ]
  },
  {
   "cell_type": "code",
   "execution_count": 16,
   "metadata": {},
   "outputs": [
    {
     "name": "stdout",
     "output_type": "stream",
     "text": [
      "t = 0.00010: max error = 1.941820098e-06\n",
      "t = 0.00010: mean error = 7.881744488e-07\n",
      "t = 0.00020: max error = 3.875936167e-06\n",
      "t = 0.00020: mean error = 1.57323874e-06\n",
      "t = 0.00030: max error = 5.802420252e-06\n",
      "t = 0.00030: mean error = 2.35520524e-06\n",
      "t = 0.00040: max error = 7.721297114e-06\n",
      "t = 0.00040: mean error = 3.13408311e-06\n",
      "t = 0.00050: max error = 9.632602089e-06\n",
      "t = 0.00050: mean error = 3.90988149e-06\n"
     ]
    }
   ],
   "source": [
    "from fenics import *\n",
    "import numpy as np\n",
    "\n",
    "\n",
    "T = 0.0005           # final time\n",
    "num_steps = 5     # number of time steps\n",
    "dt = T / num_steps # time step size\n",
    "\n",
    "\n",
    "# Create mesh and define function space\n",
    "nx = ny = 250\n",
    "mesh = UnitSquareMesh(nx, ny)\n",
    "V = FunctionSpace(mesh, \"Lagrange\", 3)\n",
    "\n",
    "# Define boundary condition, t value can be modified later\n",
    "u_D = Expression('cos(x[0]*pi)*cos(x[1]*pi)*exp(-2*t*pow(pi,2))',\n",
    "                 degree=4, t=0, pi=np.pi)\n",
    "\n",
    "\n",
    "\n",
    "# Define initial value\n",
    "u_n = interpolate(u_D, V)\n",
    "#u_n = project(u_D, V)\n",
    "\n",
    "# Define variational problem\n",
    "u = TrialFunction(V)\n",
    "v = TestFunction(V)\n",
    "f = Constant(0)\n",
    "\n",
    "F = u*v*dx + dt*dot(grad(u), grad(v))*dx - (u_n + dt*f)*v*dx\n",
    "a, L = lhs(F), rhs(F)\n",
    "vtkfile = File('heat_closed_sol/solution.pvd')\n",
    "\n",
    "# Time-stepping\n",
    "u = Function(V)\n",
    "t = 0\n",
    "for n in range(num_steps):\n",
    "\n",
    "    # Update current time\n",
    "    t += dt\n",
    "    u_D.t = t\n",
    "\n",
    "    # Compute solution\n",
    "    solve(a == L, u)\n",
    "\n",
    "    # Compute error using analytical solution\n",
    "    u_e = interpolate(u_D, V)\n",
    "    error_max = np.abs(np.array(u_e.vector()) - np.array(u.vector())).max()\n",
    "    error_mean = np.abs(np.array(u_e.vector()) - np.array(u.vector())).mean()\n",
    "\n",
    "    print('t = %.5f: max error = %.10g' % (t, error_max))\n",
    "    print('t = %.5f: mean error = %.10g' % (t, error_mean))\n",
    "\n",
    "\n",
    "    # Save reesults\n",
    "    \n",
    "    vtkfile << (u, t)\n",
    "    \n",
    "    # Update previous solution\n",
    "    u_n.assign(u)\n",
    "\n",
    "# Hold plot\n"
   ]
  }
 ],
 "metadata": {
  "kernelspec": {
   "display_name": "Python 3",
   "language": "python",
   "name": "python3"
  },
  "language_info": {
   "codemirror_mode": {
    "name": "ipython",
    "version": 3
   },
   "file_extension": ".py",
   "mimetype": "text/x-python",
   "name": "python",
   "nbconvert_exporter": "python",
   "pygments_lexer": "ipython3",
   "version": "3.8.5"
  }
 },
 "nbformat": 4,
 "nbformat_minor": 4
}